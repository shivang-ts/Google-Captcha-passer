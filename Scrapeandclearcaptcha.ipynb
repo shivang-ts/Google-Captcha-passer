{
 "cells": [
  {
   "cell_type": "code",
   "execution_count": 1,
   "metadata": {},
   "outputs": [],
   "source": [
    "#importing the dependancies\n",
    "from selenium import webdriver   \n",
    "from time import sleep\n",
    "from selenium.webdriver.firefox.options import Options\n",
    "from fake_useragent import UserAgent\n",
    "delayTime = 2\n",
    "audioToTextDelay = 10\n",
    "filename = 'test.mp3'\n"
   ]
  },
  {
   "cell_type": "code",
   "execution_count": 2,
   "metadata": {},
   "outputs": [],
   "source": [
    "class emailidbot:\n",
    "    def __init__(self,username,pw):\n",
    "        ua = UserAgent()   #importing UserAgent class\n",
    "        options = Options()   \n",
    "        userAgent = ua.random    #assigning random user agent\n",
    "        options.add_argument(f'user-agent={userAgent}')\n",
    "\n",
    "        self.browser = webdriver.Firefox(options=options)    #initialising firefox webdriver\n",
    "        self.browser.get('https://stackoverflow.com/users/login?ssrc=head&returnurl\\\n",
    "        =https%3a%2f%2fstackoverflow.com%2f')                #going to stackoverflow to login to Google account\n",
    "        self.browser.find_element_by_xpath('//*[@id=\"openid-buttons\"]/button[1]').click()\n",
    "        sleep(2)                                             \n",
    "        login_fieldUN = self.browser.find_element_by_xpath('//*[@id=\"identifierId\"]')\\\n",
    "        .send_keys(username)  #Filling in our username\n",
    "        sleep(4)\n",
    "        self.browser.find_element_by_xpath('//*[@id=\"identifierNext\"]/div/button/div[2]').click()\n",
    "        sleep(5)\n",
    "        login_fieldPW = self.browser.find_element_by_xpath('/html/body/div[1]/div[1]/div[2]/div/div[2]/div/div/div[2]/div/div[1]/div/form/span/section/div/div/div[1]/div[1]/div/div/div/div/div[1]/div/div[1]/input')\\\n",
    "        .send_keys(pw)   #filling in our password\n",
    "        self.browser.find_element_by_xpath('/html/body/div[1]/div[1]/div[2]/div/div[2]/div/div/div[2]/div/div[2]/div/div[1]/div/div/button/div[2]').click()\n",
    "        sleep(12)\n",
    "        self.browser.get('https://www.youtube.com/c/TechWithTim/about')\n",
    "        self.browser.find_element_by_xpath('/html/body/ytd-app/div/ytd-page-manager/ytd-browse/ytd-two-column-browse-results-renderer/div[1]/ytd-section-list-renderer/div[2]/ytd-item-section-renderer/div[3]/ytd-channel-about-metadata-renderer/div[1]/div[4]/table/tbody/tr[1]/td[3]/ytd-button-renderer/a').click()\n",
    "        sleep(7)  #Adding sleep randomly to show human-like behavior\n",
    "        captchaclear(self)                \n",
    "\n"
   ]
  },
  {
   "cell_type": "code",
   "execution_count": 4,
   "metadata": {},
   "outputs": [
    {
     "name": "stderr",
     "output_type": "stream",
     "text": [
      "<ipython-input-3-f85bbb1078e4>:11: DeprecationWarning: use driver.switch_to.default_content instead\n",
      "  self.browser.switch_to_default_content()\n"
     ]
    },
    {
     "name": "stdout",
     "output_type": "stream",
     "text": [
      "Message: Unable to locate element: [id=\"audio-source\"]\n",
      "\n",
      "Caught. Need to change proxy now\n"
     ]
    },
    {
     "data": {
      "text/plain": [
       "<__main__.emailidbot at 0x7fc3dc50dc40>"
      ]
     },
     "execution_count": 4,
     "metadata": {},
     "output_type": "execute_result"
    }
   ],
   "source": [
    "emailidbot('Enter_your_Google_account_username','Enter_your_Google_account_password')\n"
   ]
  },
  {
   "cell_type": "code",
   "execution_count": 3,
   "metadata": {},
   "outputs": [],
   "source": [
    "def captchaclear(self):\n",
    "    googleClass = self.browser.find_elements_by_class_name('g-recaptcha')[0]\n",
    "    outeriframe = googleClass.find_element_by_tag_name('iframe')\n",
    "    outeriframe.click()    #Clicks on the checkbox\n",
    "    googleIBMLink = 'https://speech-to-text-demo.ng.bluemix.net/'\n",
    "    allIframesLen = self.browser.find_elements_by_tag_name('iframe')\n",
    "    audioBtnFound = False   #audio button boolean variable\n",
    "    audioBtnIndex = -1\n",
    "\n",
    "    for index in range(len(allIframesLen)):\n",
    "        self.browser.switch_to_default_content()\n",
    "        iframe = self.browser.find_elements_by_tag_name('iframe')[index]\n",
    "        self.browser.switch_to.frame(iframe)\n",
    "        self.browser.implicitly_wait(delayTime)\n",
    "        try:\n",
    "            audioBtn = self.browser.find_element_by_id('recaptcha-audio-button') or self.browser.find_element_by_id('recaptcha-anchor')\n",
    "            audioBtn.click()\n",
    "            audioBtnFound = True\n",
    "            audioBtnIndex = index\n",
    "            break\n",
    "        except Exception as e:\n",
    "            pass\n",
    "\n",
    "    if audioBtnFound:\n",
    "        try:\n",
    "            while True:\n",
    "                href = self.browser.find_element_by_id('audio-source').get_attribute('src')\n",
    "                response = requests.get(href, stream=True)\n",
    "                saveFile(response,filename)\n",
    "                response = audioToText(os.getcwd() + '/' + filename)\n",
    "                print(response)\n",
    "\n",
    "                self.browser.switch_to_default_content()\n",
    "                iframe = self.browser.find_elements_by_tag_name('iframe')[audioBtnIndex]\n",
    "                self.browser.switch_to.frame(iframe)\n",
    "\n",
    "                inputbtn = self.browser.find_element_by_id('audio-response')\n",
    "                inputbtn.send_keys(response)\n",
    "                inputbtn.send_keys(Keys.ENTER)\n",
    "\n",
    "                time.sleep(2)\n",
    "                errorMsg = self.browser.find_elements_by_class_name('rc-audiochallenge-error-message')[0]\n",
    "\n",
    "                if errorMsg.text == \"\" or errorMsg.value_of_css_property('display') == 'none':\n",
    "                    print(\"Success\")\n",
    "                    break\n",
    "             \n",
    "        except Exception as e:\n",
    "            print(e)\n",
    "            print('IP address blocked. Need to use proxy now')\n",
    "    else:\n",
    "        print('Audio button not found')"
   ]
  },
  {
   "cell_type": "code",
   "execution_count": null,
   "metadata": {},
   "outputs": [],
   "source": [
    "def audioToText(mp3Path):\n",
    "\n",
    "    self.browser.execute_script('''window.open(\"\",\"_blank\");''')\n",
    "    self.browser.switch_to.window(driver.window_handles[1])\n",
    "\n",
    "    self.browser.get(googleIBMLink)\n",
    "\n",
    "    # Upload file \n",
    "    time.sleep(1)\n",
    "    root = self.browser.find_element_by_id('root').find_elements_by_class_name('dropzone _container _container_large')\n",
    "    btn = self.browser.find_element(By.XPATH, '//*[@id=\"root\"]/div/input')\n",
    "    btn.send_keys(mp3Path)\n",
    "\n",
    "    # Audio to text is processing\n",
    "    time.sleep(audioToTextDelay)\n",
    "\n",
    "    text = self.browser.find_element(By.XPATH, '//*[@id=\"root\"]/div/div[6]/div/div/dialog').find_elements_by_tag_name('dd')\n",
    "    result = \" \".join( [ each.text for each in text ] )\n",
    "\n",
    "    self.browser.close()\n",
    "    self.browser.switch_to.window(driver.window_handles[0])\n",
    "\n",
    "    return result\n",
    "\n",
    "def saveFile(content,filename):\n",
    "    with open(filename, \"wb\") as handle:\n",
    "        for data in content.iter_content():\n",
    "            handle.write(data)\n"
   ]
  },
  {
   "cell_type": "code",
   "execution_count": null,
   "metadata": {},
   "outputs": [],
   "source": []
  },
  {
   "cell_type": "code",
   "execution_count": null,
   "metadata": {},
   "outputs": [],
   "source": []
  },
  {
   "cell_type": "code",
   "execution_count": null,
   "metadata": {},
   "outputs": [],
   "source": []
  }
 ],
 "metadata": {
  "kernelspec": {
   "display_name": "Python 3",
   "language": "python",
   "name": "python3"
  },
  "language_info": {
   "codemirror_mode": {
    "name": "ipython",
    "version": 3
   },
   "file_extension": ".py",
   "mimetype": "text/x-python",
   "name": "python",
   "nbconvert_exporter": "python",
   "pygments_lexer": "ipython3",
   "version": "3.8.2"
  }
 },
 "nbformat": 4,
 "nbformat_minor": 4
}
